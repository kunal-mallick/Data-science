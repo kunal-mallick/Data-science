{
  "nbformat": 4,
  "nbformat_minor": 0,
  "metadata": {
    "colab": {
      "provenance": []
    },
    "kernelspec": {
      "name": "python3",
      "display_name": "Python 3"
    },
    "language_info": {
      "name": "python"
    }
  },
  "cells": [
    {
      "cell_type": "markdown",
      "source": [
        "# If all column are numarical (it may not work all time)"
      ],
      "metadata": {
        "id": "flciAG4DnYHR"
      }
    },
    {
      "cell_type": "code",
      "source": [
        "r = 2\n",
        "c = 2\n",
        "fig,ax = plt.subplots(r,c)\n",
        "plt.tight_layout()\n",
        "\n",
        "for i in range(r):\n",
        "  for j in range(c):\n",
        "    sns.boxplot(df[df.columns[i+j]], ax = ax[i,j])"
      ],
      "metadata": {
        "id": "M_IsXDsOmFOl"
      },
      "execution_count": null,
      "outputs": []
    },
    {
      "cell_type": "markdown",
      "source": [
        "# Outlier Funtion"
      ],
      "metadata": {
        "id": "dzF9f9b0ofGx"
      }
    },
    {
      "cell_type": "code",
      "source": [
        "def remove_outlier(df,col):\n",
        "  q1 = df[col].quantile(0.25)\n",
        "  q3 = df[col].quantile(0.75)\n",
        "  iqr = q3-q1\n",
        "\n",
        "  upper = q3 + (iqr*1.5)\n",
        "  lower = q1 - (iqr*1.5)\n",
        "  \n",
        "  df = df[(df[col]>lower) & (df[col]<upper)]\n",
        "\n",
        "  return df"
      ],
      "metadata": {
        "id": "YcYNyx1HomyA"
      },
      "execution_count": 40,
      "outputs": []
    }
  ]
}