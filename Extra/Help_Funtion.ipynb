{
  "cells": [
    {
      "cell_type": "markdown",
      "metadata": {
        "id": "flciAG4DnYHR"
      },
      "source": [
        "# If all column are numarical (it may not work all time)"
      ]
    },
    {
      "cell_type": "code",
      "execution_count": null,
      "metadata": {
        "id": "M_IsXDsOmFOl"
      },
      "outputs": [],
      "source": [
        "r = 2\n",
        "c = 2\n",
        "fig,ax = plt.subplots(r,c)\n",
        "plt.tight_layout()\n",
        "\n",
        "for i in range(r):\n",
        "  for j in range(c):\n",
        "    sns.boxplot(df[df.columns[i+j]], ax = ax[i,j])"
      ]
    },
    {
      "cell_type": "markdown",
      "metadata": {
        "id": "dzF9f9b0ofGx"
      },
      "source": [
        "# Outlier Funtion"
      ]
    },
    {
      "cell_type": "code",
      "execution_count": 40,
      "metadata": {
        "id": "YcYNyx1HomyA"
      },
      "outputs": [],
      "source": [
        "def remove_outlier(df,col):\n",
        "  q1 = df[col].quantile(0.25)\n",
        "  q3 = df[col].quantile(0.75)\n",
        "  iqr = q3-q1\n",
        "\n",
        "  upper = q3 + (iqr*1.5)\n",
        "  lower = q1 - (iqr*1.5)\n",
        "  \n",
        "  df = df[(df[col]>lower) & (df[col]<upper)]\n",
        "\n",
        "  return df"
      ]
    },
    {
      "attachments": {},
      "cell_type": "markdown",
      "metadata": {},
      "source": [
        "# Unique Values Function"
      ]
    },
    {
      "cell_type": "code",
      "execution_count": null,
      "metadata": {},
      "outputs": [],
      "source": [
        "def uni(df):\n",
        "    \n",
        "    for i in range(len(df.columns)):\n",
        "        print('\\n All Unique Value in '+ str(df.columns[i]) )\n",
        "        print(np.sort(df[df.columns[i]].unique()))\n",
        "        print('Total no of unique values ' + str(len(df[df.columns[i]].unique())))"
      ]
    }
  ],
  "metadata": {
    "colab": {
      "provenance": []
    },
    "kernelspec": {
      "display_name": "Python 3",
      "name": "python3"
    },
    "language_info": {
      "name": "python"
    }
  },
  "nbformat": 4,
  "nbformat_minor": 0
}
