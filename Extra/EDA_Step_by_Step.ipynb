{
  "nbformat": 4,
  "nbformat_minor": 0,
  "metadata": {
    "colab": {
      "provenance": [],
      "authorship_tag": "ABX9TyOx7jPsrKdxKjR5oRJwtKRQ",
      "include_colab_link": true
    },
    "kernelspec": {
      "name": "python3",
      "display_name": "Python 3"
    },
    "language_info": {
      "name": "python"
    }
  },
  "cells": [
    {
      "cell_type": "markdown",
      "metadata": {
        "id": "view-in-github",
        "colab_type": "text"
      },
      "source": [
        "<a href=\"https://colab.research.google.com/github/kunal-mallick/Data-science/blob/main/Extra/EDA_Step_by_Step.ipynb\" target=\"_parent\"><img src=\"https://colab.research.google.com/assets/colab-badge.svg\" alt=\"Open In Colab\"/></a>"
      ]
    },
    {
      "cell_type": "markdown",
      "source": [
        "# **Exploratory data analysis (EDA)**"
      ],
      "metadata": {
        "id": "ad5El2isweGp"
      }
    },
    {
      "cell_type": "markdown",
      "source": [
        "## 1.   Auto EDA :\n",
        "\n",
        "*    Report generation in html format\n",
        "\n",
        "    - pandas_profiling\n",
        "    - sweetviz"
      ],
      "metadata": {
        "id": "yGLVk7fVw00h"
      }
    },
    {
      "cell_type": "code",
      "source": [
        "# pandas_profiling\n",
        "\n",
        "import pandas_profiling as pp"
      ],
      "metadata": {
        "id": "QS1P3a6k1MFN"
      },
      "execution_count": null,
      "outputs": []
    },
    {
      "cell_type": "code",
      "source": [
        "EDA_report= pp.ProfileReport(df, title=\"Pandas Profiling Report\", vars={\"num\": {\"low_categorical_threshold\": 0}})\n",
        "EDA_report"
      ],
      "metadata": {
        "id": "MNK2qnKu1YmU"
      },
      "execution_count": null,
      "outputs": []
    },
    {
      "cell_type": "code",
      "source": [
        "EDA_report.to_file(output_file='report2.html')"
      ],
      "metadata": {
        "id": "FBL9oiYM1kT9"
      },
      "execution_count": null,
      "outputs": []
    },
    {
      "cell_type": "code",
      "source": [
        "# sweetviz\n",
        "\n",
        "import sweetviz as sv"
      ],
      "metadata": {
        "id": "XWqaMfST-0S0"
      },
      "execution_count": null,
      "outputs": []
    },
    {
      "cell_type": "code",
      "source": [
        "sweet_report = sv.analyze(df)"
      ],
      "metadata": {
        "id": "5opMpgmS-9Mp"
      },
      "execution_count": null,
      "outputs": []
    },
    {
      "cell_type": "code",
      "source": [
        "sweet_report"
      ],
      "metadata": {
        "id": "ayCm95pN_DD1"
      },
      "execution_count": null,
      "outputs": []
    },
    {
      "cell_type": "markdown",
      "source": [
        "## 2.   Describing the data :\n",
        "\n",
        "\n",
        "*   Run describe()\n",
        "*   Run info()"
      ],
      "metadata": {
        "id": "gFzIUWm4nd04"
      }
    },
    {
      "cell_type": "code",
      "source": [
        "dataframe_name.describe()"
      ],
      "metadata": {
        "id": "CYDs7o3a_OVZ"
      },
      "execution_count": null,
      "outputs": []
    },
    {
      "cell_type": "code",
      "source": [
        "dataframe_name.info()"
      ],
      "metadata": {
        "id": "c1pXdIwF_UQA"
      },
      "execution_count": null,
      "outputs": []
    },
    {
      "cell_type": "markdown",
      "source": [
        "## 3.   Data cleaning :\n",
        "\n",
        " *   **Type conversion**\n",
        "    - Find odd vale\n",
        "    - By using replace method.\n",
        "    - By using pandas built in functions."
      ],
      "metadata": {
        "id": "zuGSD9-_0iJw"
      }
    },
    {
      "cell_type": "code",
      "source": [
        "dataframe_name.unique()"
      ],
      "metadata": {
        "id": "JLXlXQVG_Zk2"
      },
      "execution_count": null,
      "outputs": []
    },
    {
      "cell_type": "code",
      "source": [
        "dataframe_name.value_counts()"
      ],
      "metadata": {
        "id": "VxgmIjWK_1PC"
      },
      "execution_count": null,
      "outputs": []
    },
    {
      "cell_type": "code",
      "source": [
        "# Replace\n",
        "\n",
        "dataframe_name['column_name'].replace('to_replace','replace_into',inplace=True)"
      ],
      "metadata": {
        "id": "sJPlrN4CAsQk"
      },
      "execution_count": null,
      "outputs": []
    },
    {
      "cell_type": "code",
      "source": [
        "# Type conversion\n",
        "\n",
        " dataframe_name['column_name'] = dataframe_name['column_name'].astype(datatype)"
      ],
      "metadata": {
        "id": "AhG503H2AI2y"
      },
      "execution_count": null,
      "outputs": []
    },
    {
      "cell_type": "code",
      "source": [
        "dataframe_name['column_name'] = pd.to_numeric(dataframe_name['column_name'], errors='coerce')"
      ],
      "metadata": {
        "id": "wskQ86ITAaM2"
      },
      "execution_count": null,
      "outputs": []
    },
    {
      "cell_type": "markdown",
      "source": [
        "*   **Duplicates Value**\n",
        "    - Print the duplicated values\n",
        "    - Get all the duplicate values.\n",
        "    - Drop duplicate values\n",
        "    \n",
        "\n"
      ],
      "metadata": {
        "id": "qNOV6DRvCuDf"
      }
    },
    {
      "cell_type": "code",
      "source": [
        "dataframe_name[dataframe_name.duplicated()]"
      ],
      "metadata": {
        "id": "X49rV2pNEBaL"
      },
      "execution_count": null,
      "outputs": []
    },
    {
      "cell_type": "code",
      "source": [
        "dataframe_name[column == value & column == value]"
      ],
      "metadata": {
        "id": "ykFauWbbBs3k"
      },
      "execution_count": null,
      "outputs": []
    },
    {
      "cell_type": "code",
      "source": [
        "dataframe_name.drop_duplicates()"
      ],
      "metadata": {
        "id": "TICmqu5DE53u"
      },
      "execution_count": null,
      "outputs": []
    },
    {
      "cell_type": "code",
      "source": [
        "dataframe_name.duplicated().sum()"
      ],
      "metadata": {
        "id": "jQd-h_SAFAd4"
      },
      "execution_count": null,
      "outputs": []
    },
    {
      "cell_type": "markdown",
      "source": [
        "* **Drop columns**\n",
        "\n",
        "  - We need to get rid of all the uneccesary columns or else it will be very complex data"
      ],
      "metadata": {
        "id": "S8yW8mmcFIuH"
      }
    },
    {
      "cell_type": "code",
      "source": [
        "dataframe_name.drop(columns=['columns_name'], inplace=True)"
      ],
      "metadata": {
        "id": "_faVcpevGCGq"
      },
      "execution_count": null,
      "outputs": []
    },
    {
      "cell_type": "markdown",
      "source": [
        "*   **Rename the columns**"
      ],
      "metadata": {
        "id": "G-KsSP66Hrn0"
      }
    },
    {
      "cell_type": "code",
      "source": [
        "dataframe_name.rename(columns={'value':'column1', 'value':'column2'}, inplace=True)"
      ],
      "metadata": {
        "id": "syyldnsfH0t-"
      },
      "execution_count": null,
      "outputs": []
    },
    {
      "cell_type": "markdown",
      "source": [
        "## 4.   Imputation techniques\n",
        "\n",
        "* **Finding missing value**\n",
        "  - find percentage of missing value"
      ],
      "metadata": {
        "id": "i8uc_C1VHB8h"
      }
    },
    {
      "cell_type": "code",
      "source": [
        "len(dataframe_name[dataframe_name['column_name'].isnull()])"
      ],
      "metadata": {
        "id": "qQQ1g687KmLV"
      },
      "execution_count": null,
      "outputs": []
    },
    {
      "cell_type": "code",
      "source": [
        "len((dataframe_name[dataframe_name['column_name'].isnull()])/len(df))*100"
      ],
      "metadata": {
        "id": "vyyC9lh2K2Ts"
      },
      "execution_count": null,
      "outputs": []
    },
    {
      "cell_type": "markdown",
      "source": [
        "*   **Rules for missing value imputation:**\n",
        "    - If the null values are less than 3%, Use dropna()\n",
        "    - If the null values are between 5 to 40%, use fillna()\n",
        "    - If the null values are greater than 50%, drop the entire column."
      ],
      "metadata": {
        "id": "6YJhnS4lJhAb"
      }
    },
    {
      "cell_type": "code",
      "source": [
        "#Filling missing value\n",
        "\n",
        "dataframe_name['column_name'].fillna(dataframe_name['column_name'].median(), inplace=True)"
      ],
      "metadata": {
        "id": "kOdIcAHqK1Qk"
      },
      "execution_count": null,
      "outputs": []
    },
    {
      "cell_type": "markdown",
      "source": [
        "## 5. Data analysis and visualization\n",
        "\n",
        "* **Outlier detection**\n",
        "  - Boxplot : **outlier**\n",
        "  - Histplot : **-Ve skewness = median < mean > median = +Ve skewness**\n",
        "  - Scatterplot : **correlation**\n",
        "  - heatmap : **strong : > 8 < moderate > 6 <week**"
      ],
      "metadata": {
        "id": "2M1NaJmrn7e9"
      }
    },
    {
      "cell_type": "code",
      "source": [
        "def remove_outlier(df,col):\n",
        "  q1 = df[col].quantile(0.25)\n",
        "  q3 = df[col].quantile(0.75)\n",
        "  iqr = q3-q1\n",
        "\n",
        "  upper = q3 + (iqr*1.5)\n",
        "  lower = q1 - (iqr*1.5)\n",
        "  \n",
        "  df = df[(df[col]>lower) & (df[col]<upper)]\n",
        "\n",
        "  return df"
      ],
      "metadata": {
        "id": "3w_keLqmPobE"
      },
      "execution_count": null,
      "outputs": []
    },
    {
      "cell_type": "markdown",
      "source": [
        "## 6. Transformations\n",
        "\n",
        "\n",
        "*   Scaling the data\n",
        "     - Normalization\n",
        "      * Scales value within the range of 0 to 1.\n",
        "\n",
        "     - Standardization\n",
        "       - Uses Z score for scaling.\n",
        "       - Scale values in such a way that the mean = 0 and standard deviation is 1\n",
        "\n"
      ],
      "metadata": {
        "id": "wQRJjw7prd9r"
      }
    },
    {
      "cell_type": "code",
      "source": [
        "#Normalization\n",
        "\n",
        "from sklearn.preprocessing import StandardScaler"
      ],
      "metadata": {
        "id": "IZaUrDS_N4mw"
      },
      "execution_count": null,
      "outputs": []
    },
    {
      "cell_type": "code",
      "source": [
        "sc = StandardScaler()"
      ],
      "metadata": {
        "id": "NrRhw-OaN9DO"
      },
      "execution_count": null,
      "outputs": []
    },
    {
      "cell_type": "code",
      "source": [
        "scaled_df  = pd.DataFrame(sc.fit_transform(dataframe_name), columns=dataframe_name.columns)"
      ],
      "metadata": {
        "id": "mAFeNj1TN_yj"
      },
      "execution_count": null,
      "outputs": []
    },
    {
      "cell_type": "code",
      "source": [
        "#Standardization\n",
        "\n",
        "from sklearn.preprocessing import MinMaxScaler"
      ],
      "metadata": {
        "id": "o9IukhlhO74b"
      },
      "execution_count": null,
      "outputs": []
    },
    {
      "cell_type": "code",
      "source": [
        "mn = MinMaxScaler()"
      ],
      "metadata": {
        "id": "hitMgqAoPBNz"
      },
      "execution_count": null,
      "outputs": []
    },
    {
      "cell_type": "code",
      "source": [
        "minmax = pd.DataFrame(mn.fit_transform(dataframe_name), columns=dataframe_name.columns)"
      ],
      "metadata": {
        "id": "KD8zQKQyPFTf"
      },
      "execution_count": null,
      "outputs": []
    }
  ]
}