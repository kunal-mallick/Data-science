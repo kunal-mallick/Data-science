{
  "cells": [
    {
      "cell_type": "markdown",
      "metadata": {
        "id": "ad5El2isweGp"
      },
      "source": [
        "# **Exploratory data analysis (EDA)**"
      ]
    },
    {
      "cell_type": "markdown",
      "metadata": {
        "id": "yGLVk7fVw00h"
      },
      "source": [
        "## 1.   Auto EDA :\n",
        "\n",
        "*    Report generation in html format\n",
        "\n",
        "    - pandas_profiling\n",
        "    - sweetviz"
      ]
    },
    {
      "cell_type": "code",
      "execution_count": null,
      "metadata": {
        "id": "QS1P3a6k1MFN"
      },
      "outputs": [],
      "source": [
        "# pandas_profiling\n",
        "\n",
        "import pandas_profiling as pp"
      ]
    },
    {
      "cell_type": "code",
      "execution_count": null,
      "metadata": {
        "id": "MNK2qnKu1YmU"
      },
      "outputs": [],
      "source": [
        "EDA_report= pp.ProfileReport(df, title=\"Pandas Profiling Report\", vars={\"num\": {\"low_categorical_threshold\": 0}})\n",
        "EDA_report"
      ]
    },
    {
      "cell_type": "code",
      "execution_count": null,
      "metadata": {
        "id": "FBL9oiYM1kT9"
      },
      "outputs": [],
      "source": [
        "EDA_report.to_file(output_file='report2.html')"
      ]
    },
    {
      "cell_type": "code",
      "execution_count": null,
      "metadata": {
        "id": "XWqaMfST-0S0"
      },
      "outputs": [],
      "source": [
        "# sweetviz\n",
        "\n",
        "import sweetviz as sv"
      ]
    },
    {
      "cell_type": "code",
      "execution_count": null,
      "metadata": {
        "id": "5opMpgmS-9Mp"
      },
      "outputs": [],
      "source": [
        "sweet_report = sv.analyze(df)"
      ]
    },
    {
      "cell_type": "code",
      "execution_count": null,
      "metadata": {
        "id": "ayCm95pN_DD1"
      },
      "outputs": [],
      "source": [
        "sweet_report"
      ]
    },
    {
      "cell_type": "markdown",
      "metadata": {
        "id": "gFzIUWm4nd04"
      },
      "source": [
        "## 2.   Describing the data :\n",
        "\n",
        "\n",
        "*   Run describe()\n",
        "*   Run info()"
      ]
    },
    {
      "cell_type": "code",
      "execution_count": null,
      "metadata": {
        "id": "CYDs7o3a_OVZ"
      },
      "outputs": [],
      "source": [
        "dataframe_name.describe()"
      ]
    },
    {
      "cell_type": "code",
      "execution_count": null,
      "metadata": {
        "id": "c1pXdIwF_UQA"
      },
      "outputs": [],
      "source": [
        "dataframe_name.info()"
      ]
    },
    {
      "cell_type": "markdown",
      "metadata": {
        "id": "zuGSD9-_0iJw"
      },
      "source": [
        "## 3.   Data cleaning :\n",
        "\n",
        " *   **Type conversion**\n",
        "    - Find odd vale\n",
        "    - By using replace method.\n",
        "    - By using pandas built in functions."
      ]
    },
    {
      "cell_type": "code",
      "execution_count": null,
      "metadata": {
        "id": "JLXlXQVG_Zk2"
      },
      "outputs": [],
      "source": [
        "dataframe_name.unique()"
      ]
    },
    {
      "attachments": {},
      "cell_type": "markdown",
      "metadata": {},
      "source": [
        "- unique funtion to print all columns unique values by giving dataframe name in parameter."
      ]
    },
    {
      "cell_type": "code",
      "execution_count": null,
      "metadata": {},
      "outputs": [],
      "source": [
        "def uni(df):\n",
        "    \n",
        "    for i in range(len(df.columns)):\n",
        "        print('\\n All Unique Value in '+ str(df.columns[i]) )\n",
        "        print(np.sort(df[df.columns[i]].unique()))\n",
        "        print('Total no of unique values ' + str(len(df[df.columns[i]].unique())))"
      ]
    },
    {
      "cell_type": "code",
      "execution_count": null,
      "metadata": {
        "id": "VxgmIjWK_1PC"
      },
      "outputs": [],
      "source": [
        "dataframe_name.value_counts()"
      ]
    },
    {
      "cell_type": "code",
      "execution_count": null,
      "metadata": {
        "id": "sJPlrN4CAsQk"
      },
      "outputs": [],
      "source": [
        "# Replace\n",
        "\n",
        "dataframe_name['column_name'].replace('to_replace','replace_into',inplace=True)"
      ]
    },
    {
      "cell_type": "code",
      "execution_count": null,
      "metadata": {
        "id": "AhG503H2AI2y"
      },
      "outputs": [],
      "source": [
        "# Type conversion\n",
        "\n",
        " dataframe_name['column_name'] = dataframe_name['column_name'].astype(datatype)"
      ]
    },
    {
      "cell_type": "code",
      "execution_count": null,
      "metadata": {
        "id": "wskQ86ITAaM2"
      },
      "outputs": [],
      "source": [
        "dataframe_name['column_name'] = pd.to_numeric(dataframe_name['column_name'], errors='coerce')"
      ]
    },
    {
      "cell_type": "markdown",
      "metadata": {
        "id": "qNOV6DRvCuDf"
      },
      "source": [
        "*   **Duplicates Value**\n",
        "    - Print the duplicated values\n",
        "    - Get all the duplicate values.\n",
        "    - Drop duplicate values\n",
        "    \n",
        "\n"
      ]
    },
    {
      "cell_type": "code",
      "execution_count": null,
      "metadata": {
        "id": "X49rV2pNEBaL"
      },
      "outputs": [],
      "source": [
        "dataframe_name[dataframe_name.duplicated()]"
      ]
    },
    {
      "cell_type": "code",
      "execution_count": null,
      "metadata": {
        "id": "ykFauWbbBs3k"
      },
      "outputs": [],
      "source": [
        "dataframe_name[column == value & column == value]"
      ]
    },
    {
      "cell_type": "code",
      "execution_count": null,
      "metadata": {
        "id": "TICmqu5DE53u"
      },
      "outputs": [],
      "source": [
        "dataframe_name.drop_duplicates()"
      ]
    },
    {
      "cell_type": "code",
      "execution_count": null,
      "metadata": {
        "id": "jQd-h_SAFAd4"
      },
      "outputs": [],
      "source": [
        "dataframe_name.duplicated().sum()"
      ]
    },
    {
      "cell_type": "markdown",
      "metadata": {
        "id": "S8yW8mmcFIuH"
      },
      "source": [
        "* **Drop columns**\n",
        "\n",
        "  - We need to get rid of all the uneccesary columns or else it will be very complex data"
      ]
    },
    {
      "cell_type": "code",
      "execution_count": null,
      "metadata": {
        "id": "_faVcpevGCGq"
      },
      "outputs": [],
      "source": [
        "dataframe_name.drop(columns=['columns_name'], inplace=True)"
      ]
    },
    {
      "cell_type": "markdown",
      "metadata": {
        "id": "G-KsSP66Hrn0"
      },
      "source": [
        "*   **Rename the columns**"
      ]
    },
    {
      "cell_type": "code",
      "execution_count": null,
      "metadata": {
        "id": "syyldnsfH0t-"
      },
      "outputs": [],
      "source": [
        "dataframe_name.rename(columns={'value':'column1', 'value':'column2'}, inplace=True)"
      ]
    },
    {
      "cell_type": "markdown",
      "metadata": {
        "id": "i8uc_C1VHB8h"
      },
      "source": [
        "## 4.   Imputation techniques\n",
        "\n",
        "* **Finding missing value**\n",
        "  - find percentage of missing value"
      ]
    },
    {
      "cell_type": "code",
      "execution_count": null,
      "metadata": {
        "id": "qQQ1g687KmLV"
      },
      "outputs": [],
      "source": [
        "len(dataframe_name[dataframe_name['column_name'].isnull()])"
      ]
    },
    {
      "cell_type": "code",
      "execution_count": null,
      "metadata": {
        "id": "vyyC9lh2K2Ts"
      },
      "outputs": [],
      "source": [
        "len((dataframe_name[dataframe_name['column_name'].isnull()])/len(df))*100"
      ]
    },
    {
      "cell_type": "markdown",
      "metadata": {
        "id": "6YJhnS4lJhAb"
      },
      "source": [
        "*   **Rules for missing value imputation:**\n",
        "    - If the null values are less than 3%, Use dropna()\n",
        "    - If the null values are between 5 to 40%, use fillna()\n",
        "    - If the null values are greater than 50%, drop the entire column."
      ]
    },
    {
      "cell_type": "code",
      "execution_count": null,
      "metadata": {
        "id": "kOdIcAHqK1Qk"
      },
      "outputs": [],
      "source": [
        "#Filling missing value\n",
        "\n",
        "dataframe_name['column_name'].fillna(dataframe_name['column_name'].median(), inplace=True)"
      ]
    },
    {
      "cell_type": "markdown",
      "metadata": {
        "id": "2M1NaJmrn7e9"
      },
      "source": [
        "## 5. Data analysis and visualization\n",
        "\n",
        "* **Outlier detection**\n",
        "  - Boxplot : **outlier**\n",
        "  - Histplot : **-Ve skewness = median < mean > median = +Ve skewness**\n",
        "  - Scatterplot : **correlation**\n",
        "  - heatmap : **strong : > 8 < moderate > 6 <week**"
      ]
    },
    {
      "cell_type": "code",
      "execution_count": null,
      "metadata": {
        "id": "3w_keLqmPobE"
      },
      "outputs": [],
      "source": [
        "def remove_outlier(df,col):\n",
        "  q1 = df[col].quantile(0.25)\n",
        "  q3 = df[col].quantile(0.75)\n",
        "  iqr = q3-q1\n",
        "\n",
        "  upper = q3 + (iqr*1.5)\n",
        "  lower = q1 - (iqr*1.5)\n",
        "  \n",
        "  df = df[(df[col]>lower) & (df[col]<upper)]\n",
        "\n",
        "  return df"
      ]
    },
    {
      "cell_type": "markdown",
      "metadata": {
        "id": "wQRJjw7prd9r"
      },
      "source": [
        "## 6. Transformations\n",
        "\n",
        "\n",
        "*   Scaling the data\n",
        "     - Normalization\n",
        "      * Scales value within the range of 0 to 1.\n",
        "\n",
        "     - Standardization\n",
        "       - Uses Z score for scaling.\n",
        "       - Scale values in such a way that the mean = 0 and standard deviation is 1\n",
        "\n"
      ]
    },
    {
      "cell_type": "code",
      "execution_count": null,
      "metadata": {
        "id": "IZaUrDS_N4mw"
      },
      "outputs": [],
      "source": [
        "#Normalization\n",
        "\n",
        "from sklearn.preprocessing import StandardScaler"
      ]
    },
    {
      "cell_type": "code",
      "execution_count": null,
      "metadata": {
        "id": "NrRhw-OaN9DO"
      },
      "outputs": [],
      "source": [
        "sc = StandardScaler()"
      ]
    },
    {
      "cell_type": "code",
      "execution_count": null,
      "metadata": {
        "id": "mAFeNj1TN_yj"
      },
      "outputs": [],
      "source": [
        "scaled_df  = pd.DataFrame(sc.fit_transform(dataframe_name), columns=dataframe_name.columns)"
      ]
    },
    {
      "cell_type": "code",
      "execution_count": null,
      "metadata": {
        "id": "o9IukhlhO74b"
      },
      "outputs": [],
      "source": [
        "#Standardization\n",
        "\n",
        "from sklearn.preprocessing import MinMaxScaler"
      ]
    },
    {
      "cell_type": "code",
      "execution_count": null,
      "metadata": {
        "id": "hitMgqAoPBNz"
      },
      "outputs": [],
      "source": [
        "mn = MinMaxScaler()"
      ]
    },
    {
      "cell_type": "code",
      "execution_count": null,
      "metadata": {
        "id": "KD8zQKQyPFTf"
      },
      "outputs": [],
      "source": [
        "minmax = pd.DataFrame(mn.fit_transform(dataframe_name), columns=dataframe_name.columns)"
      ]
    }
  ],
  "metadata": {
    "colab": {
      "provenance": []
    },
    "kernelspec": {
      "display_name": "Python 3",
      "name": "python3"
    },
    "language_info": {
      "name": "python"
    }
  },
  "nbformat": 4,
  "nbformat_minor": 0
}
